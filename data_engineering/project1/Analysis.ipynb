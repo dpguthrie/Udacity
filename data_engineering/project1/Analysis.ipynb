{
 "cells": [
  {
   "cell_type": "code",
   "execution_count": 25,
   "metadata": {
    "editable": true
   },
   "outputs": [],
   "source": [
    "import psycopg2\n",
    "import create_tables\n",
    "import etl\n",
    "import pandas as pd\n",
    "import pandas.io.sql as sqlio\n",
    "import matplotlib.pyplot as plt\n",
    "\n",
    "%matplotlib inline"
   ]
  },
  {
   "cell_type": "markdown",
   "metadata": {
    "editable": true
   },
   "source": [
    "## Sparkify Objectives\n",
    "\n",
    "Sparkify would like to understand what songs their users are listening to.  With the data we have, we can tackle this problem in several ways:\n",
    "\n",
    "1. Look at a list of songs played the most\n",
    "2. Break that list out by the user's level (free vs. paid)\n",
    "3. Understand when their users are utilizing their service the most (Time of day, specific day of the week, etc.)\n"
   ]
  },
  {
   "cell_type": "code",
   "execution_count": 2,
   "metadata": {
    "editable": true
   },
   "outputs": [],
   "source": [
    "# Upload data\n",
    "try:\n",
    "    conn = psycopg2.connect(\"host=127.0.0.1 dbname=sparkifydb user=student password=student\")\n",
    "except psycopg2.OperationalError:\n",
    "    create_tables.main()\n",
    "    etl.main()\n",
    "    conn = psycopg2.connect(\"host=127.0.0.1 dbname=sparkifydb user=student password=student\")\n",
    "cur = conn.cursor()"
   ]
  },
  {
   "cell_type": "code",
   "execution_count": 18,
   "metadata": {
    "editable": true
   },
   "outputs": [],
   "source": [
    "# Query data from the songplays table\n",
    "df = sqlio.read_sql_query(\"SELECT * FROM songplays\", conn)\n",
    "\n",
    "# Trim location column and add State\n",
    "df['location'] = df.location.str.rstrip()\n",
    "df['state'] = df['location'].str[-2:]\n",
    "\n",
    "# Create date column\n",
    "df['date'] = pd.to_datetime(df['start_time']).apply(lambda x: x.date())\n",
    "df['hour'] = pd.to_datetime(df['start_time']).apply(lambda x: x.hour)"
   ]
  },
  {
   "cell_type": "code",
   "execution_count": 19,
   "metadata": {
    "editable": true
   },
   "outputs": [
    {
     "data": {
      "text/html": [
       "<div>\n",
       "<style scoped>\n",
       "    .dataframe tbody tr th:only-of-type {\n",
       "        vertical-align: middle;\n",
       "    }\n",
       "\n",
       "    .dataframe tbody tr th {\n",
       "        vertical-align: top;\n",
       "    }\n",
       "\n",
       "    .dataframe thead th {\n",
       "        text-align: right;\n",
       "    }\n",
       "</style>\n",
       "<table border=\"1\" class=\"dataframe\">\n",
       "  <thead>\n",
       "    <tr style=\"text-align: right;\">\n",
       "      <th></th>\n",
       "      <th>songplay_id</th>\n",
       "      <th>start_time</th>\n",
       "      <th>user_id</th>\n",
       "      <th>level</th>\n",
       "      <th>song_id</th>\n",
       "      <th>artist_id</th>\n",
       "      <th>session_id</th>\n",
       "      <th>location</th>\n",
       "      <th>user_agent</th>\n",
       "      <th>state</th>\n",
       "      <th>date</th>\n",
       "      <th>hour</th>\n",
       "    </tr>\n",
       "  </thead>\n",
       "  <tbody>\n",
       "    <tr>\n",
       "      <th>0</th>\n",
       "      <td>1</td>\n",
       "      <td>2018-11-13 00:40:37.796</td>\n",
       "      <td>66</td>\n",
       "      <td>free</td>\n",
       "      <td>None</td>\n",
       "      <td>None</td>\n",
       "      <td>514</td>\n",
       "      <td>Harrisburg-Carlisle, PA</td>\n",
       "      <td>\"Mozilla/5.0 (Macintosh; Intel Mac OS X 10_9_4...</td>\n",
       "      <td>PA</td>\n",
       "      <td>2018-11-13</td>\n",
       "      <td>0</td>\n",
       "    </tr>\n",
       "    <tr>\n",
       "      <th>1</th>\n",
       "      <td>2</td>\n",
       "      <td>2018-11-13 01:12:29.796</td>\n",
       "      <td>51</td>\n",
       "      <td>free</td>\n",
       "      <td>None</td>\n",
       "      <td>None</td>\n",
       "      <td>510</td>\n",
       "      <td>Houston-The Woodlands-Sugar Land, TX</td>\n",
       "      <td>\"Mozilla/5.0 (Windows NT 6.3; WOW64) AppleWebK...</td>\n",
       "      <td>TX</td>\n",
       "      <td>2018-11-13</td>\n",
       "      <td>1</td>\n",
       "    </tr>\n",
       "    <tr>\n",
       "      <th>2</th>\n",
       "      <td>3</td>\n",
       "      <td>2018-11-13 03:19:02.796</td>\n",
       "      <td>9</td>\n",
       "      <td>free</td>\n",
       "      <td>None</td>\n",
       "      <td>None</td>\n",
       "      <td>379</td>\n",
       "      <td>Eureka-Arcata-Fortuna, CA</td>\n",
       "      <td>Mozilla/5.0 (Windows NT 6.1; WOW64; Trident/7....</td>\n",
       "      <td>CA</td>\n",
       "      <td>2018-11-13</td>\n",
       "      <td>3</td>\n",
       "    </tr>\n",
       "    <tr>\n",
       "      <th>3</th>\n",
       "      <td>4</td>\n",
       "      <td>2018-11-13 03:51:52.796</td>\n",
       "      <td>49</td>\n",
       "      <td>free</td>\n",
       "      <td>None</td>\n",
       "      <td>None</td>\n",
       "      <td>506</td>\n",
       "      <td>San Francisco-Oakland-Hayward, CA</td>\n",
       "      <td>Mozilla/5.0 (Windows NT 5.1; rv:31.0) Gecko/20...</td>\n",
       "      <td>CA</td>\n",
       "      <td>2018-11-13</td>\n",
       "      <td>3</td>\n",
       "    </tr>\n",
       "    <tr>\n",
       "      <th>4</th>\n",
       "      <td>5</td>\n",
       "      <td>2018-11-13 05:00:06.796</td>\n",
       "      <td>94</td>\n",
       "      <td>free</td>\n",
       "      <td>None</td>\n",
       "      <td>None</td>\n",
       "      <td>492</td>\n",
       "      <td>Ogden-Clearfield, UT</td>\n",
       "      <td>Mozilla/5.0 (Windows NT 6.1; WOW64; rv:32.0) G...</td>\n",
       "      <td>UT</td>\n",
       "      <td>2018-11-13</td>\n",
       "      <td>5</td>\n",
       "    </tr>\n",
       "  </tbody>\n",
       "</table>\n",
       "</div>"
      ],
      "text/plain": [
       "   songplay_id              start_time  user_id level song_id artist_id  \\\n",
       "0            1 2018-11-13 00:40:37.796       66  free    None      None   \n",
       "1            2 2018-11-13 01:12:29.796       51  free    None      None   \n",
       "2            3 2018-11-13 03:19:02.796        9  free    None      None   \n",
       "3            4 2018-11-13 03:51:52.796       49  free    None      None   \n",
       "4            5 2018-11-13 05:00:06.796       94  free    None      None   \n",
       "\n",
       "   session_id                              location  \\\n",
       "0         514               Harrisburg-Carlisle, PA   \n",
       "1         510  Houston-The Woodlands-Sugar Land, TX   \n",
       "2         379             Eureka-Arcata-Fortuna, CA   \n",
       "3         506     San Francisco-Oakland-Hayward, CA   \n",
       "4         492                  Ogden-Clearfield, UT   \n",
       "\n",
       "                                          user_agent state        date  hour  \n",
       "0  \"Mozilla/5.0 (Macintosh; Intel Mac OS X 10_9_4...    PA  2018-11-13     0  \n",
       "1  \"Mozilla/5.0 (Windows NT 6.3; WOW64) AppleWebK...    TX  2018-11-13     1  \n",
       "2  Mozilla/5.0 (Windows NT 6.1; WOW64; Trident/7....    CA  2018-11-13     3  \n",
       "3  Mozilla/5.0 (Windows NT 5.1; rv:31.0) Gecko/20...    CA  2018-11-13     3  \n",
       "4  Mozilla/5.0 (Windows NT 6.1; WOW64; rv:32.0) G...    UT  2018-11-13     5  "
      ]
     },
     "execution_count": 19,
     "metadata": {},
     "output_type": "execute_result"
    }
   ],
   "source": [
    "# View subset of data\n",
    "df.head()"
   ]
  },
  {
   "cell_type": "markdown",
   "metadata": {
    "editable": true
   },
   "source": [
    "### Top Songs\n",
    "\n",
    "The query below will not return significant results due to the limited dataset.  However, given a full dataset, we would be able to see the songs played the most over our entire dataset.  The query could then be limited by dates if necessary"
   ]
  },
  {
   "cell_type": "code",
   "execution_count": 5,
   "metadata": {
    "editable": true
   },
   "outputs": [
    {
     "data": {
      "text/html": [
       "<div>\n",
       "<style scoped>\n",
       "    .dataframe tbody tr th:only-of-type {\n",
       "        vertical-align: middle;\n",
       "    }\n",
       "\n",
       "    .dataframe tbody tr th {\n",
       "        vertical-align: top;\n",
       "    }\n",
       "\n",
       "    .dataframe thead th {\n",
       "        text-align: right;\n",
       "    }\n",
       "</style>\n",
       "<table border=\"1\" class=\"dataframe\">\n",
       "  <thead>\n",
       "    <tr style=\"text-align: right;\">\n",
       "      <th></th>\n",
       "      <th>title</th>\n",
       "      <th>count</th>\n",
       "    </tr>\n",
       "  </thead>\n",
       "  <tbody>\n",
       "    <tr>\n",
       "      <th>0</th>\n",
       "      <td>None</td>\n",
       "      <td>6820</td>\n",
       "    </tr>\n",
       "  </tbody>\n",
       "</table>\n",
       "</div>"
      ],
      "text/plain": [
       "  title  count\n",
       "0  None   6820"
      ]
     },
     "execution_count": 5,
     "metadata": {},
     "output_type": "execute_result"
    }
   ],
   "source": [
    "top_songs_query = \"\"\"\n",
    "SELECT songs.title, COUNT(*)\n",
    "FROM songplays\n",
    "LEFT JOIN songs ON songplays.song_id = songs.song_id\n",
    "GROUP BY songs.title\n",
    "ORDER BY COUNT(*) DESC\n",
    "\"\"\"\n",
    "\n",
    "top_songs_df = sqlio.read_sql_query(top_songs_query, conn)\n",
    "top_songs_df"
   ]
  },
  {
   "cell_type": "markdown",
   "metadata": {
    "editable": true
   },
   "source": [
    "### User Breakdown\n",
    "\n",
    "We might also be interested in how the number of songs played differ between user levels.  A targeted marketing campaign could then be developed toward those users who are still in the free level but utilize the service like a paid user."
   ]
  },
  {
   "cell_type": "code",
   "execution_count": 27,
   "metadata": {
    "editable": true
   },
   "outputs": [
    {
     "data": {
      "text/plain": [
       "<matplotlib.axes._subplots.AxesSubplot at 0x7f6251deb160>"
      ]
     },
     "execution_count": 27,
     "metadata": {},
     "output_type": "execute_result"
    },
    {
     "data": {
      "image/png": "[encoded data removed]",
      "text/plain": [
       "<matplotlib.figure.Figure at 0x7f6253fd1f60>"
      ]
     },
     "metadata": {
      "needs_background": "light"
     },
     "output_type": "display_data"
    }
   ],
   "source": [
    "# Strict counts by level\n",
    "df.groupby('level').count()['songplay_id'].plot(kind='bar')"
   ]
  },
  {
   "cell_type": "markdown",
   "metadata": {
    "editable": true
   },
   "source": [
    "Obviously, our paid users are utilizing the service much more than our free users.  But, what does the user count look like in each level?  Is one member, or several, driving those numbers?"
   ]
  },
  {
   "cell_type": "code",
   "execution_count": 29,
   "metadata": {
    "editable": true
   },
   "outputs": [
    {
     "data": {
      "text/plain": [
       "level  user_id\n",
       "paid   49         650\n",
       "       80         648\n",
       "       97         557\n",
       "       15         462\n",
       "       44         397\n",
       "       29         341\n",
       "       24         321\n",
       "       73         289\n",
       "       88         241\n",
       "       36         241\n",
       "       95         213\n",
       "       16         208\n",
       "       85         178\n",
       "       30         178\n",
       "       25         169\n",
       "       58         140\n",
       "       42         140\n",
       "free   26         114\n",
       "paid   82          87\n",
       "       72          72\n",
       "free   32          56\n",
       "       101         55\n",
       "       50          48\n",
       "       86          45\n",
       "       49          39\n",
       "       66          37\n",
       "       37          34\n",
       "paid   70          33\n",
       "free   88          29\n",
       "       69          29\n",
       "                 ... \n",
       "       84           6\n",
       "       81           6\n",
       "       18           5\n",
       "       7            5\n",
       "       29           5\n",
       "       71           5\n",
       "       13           5\n",
       "       4            5\n",
       "       5            4\n",
       "       98           4\n",
       "       23           4\n",
       "       99           4\n",
       "       47           3\n",
       "       48           3\n",
       "       90           3\n",
       "       3            3\n",
       "       68           3\n",
       "       38           3\n",
       "       11           2\n",
       "       27           2\n",
       "       79           2\n",
       "       64           2\n",
       "       22           2\n",
       "       39           2\n",
       "       59           2\n",
       "       56           2\n",
       "       15           1\n",
       "       85           1\n",
       "       45           1\n",
       "       87           1\n",
       "Name: songplay_id, Length: 104, dtype: int64"
      ]
     },
     "execution_count": 29,
     "metadata": {},
     "output_type": "execute_result"
    }
   ],
   "source": [
    "users = df.groupby(['level', 'user_id']).nunique()['songplay_id'].sort_values(ascending=False)\n",
    "users"
   ]
  },
  {
   "cell_type": "markdown",
   "metadata": {
    "editable": true
   },
   "source": [
    "### The When Breakdown\n",
    "\n",
    "Any streaming service should understand if their service is being utilized more or less at different times of the day so they can allocate resources accordingly."
   ]
  },
  {
   "cell_type": "code",
   "execution_count": 26,
   "metadata": {
    "editable": true
   },
   "outputs": [
    {
     "data": {
      "text/plain": [
       "<matplotlib.axes._subplots.AxesSubplot at 0x7f6251e9b898>"
      ]
     },
     "execution_count": 26,
     "metadata": {},
     "output_type": "execute_result"
    },
    {
     "data": {
      "image/png": "[encoded data removed]",
      "text/plain": [
       "<matplotlib.figure.Figure at 0x7f6251eaeeb8>"
      ]
     },
     "metadata": {
      "needs_background": "light"
     },
     "output_type": "display_data"
    }
   ],
   "source": [
    "df.groupby('hour').count()['songplay_id'].plot(kind=\"line\")"
   ]
  },
  {
   "cell_type": "markdown",
   "metadata": {
    "editable": true
   },
   "source": [
    "The service peaks with users listening to songs during the late-afternoon to early evening.\n",
    "\n",
    "What about day of week?  Can we see any interesting trends?"
   ]
  },
  {
   "cell_type": "code",
   "execution_count": 31,
   "metadata": {
    "editable": true
   },
   "outputs": [
    {
     "data": {
      "text/plain": [
       "<matplotlib.axes._subplots.AxesSubplot at 0x7f6251cc9780>"
      ]
     },
     "execution_count": 31,
     "metadata": {},
     "output_type": "execute_result"
    },
    {
     "data": {
      "image/png": "[encoded data removed]",
      "text/plain": [
       "<matplotlib.figure.Figure at 0x7f6251cc9e48>"
      ]
     },
     "metadata": {
      "needs_background": "light"
     },
     "output_type": "display_data"
    }
   ],
   "source": [
    "df.groupby(df['start_time'].dt.weekday_name).count()['songplay_id'].plot(kind='bar')"
   ]
  },
  {
   "cell_type": "markdown",
   "metadata": {
    "editable": true
   },
   "source": [
    "This is interesting:  the lowest activity we have is on Saturday and Sunday."
   ]
  }
 ],
 "metadata": {
  "kernelspec": {
   "display_name": "Python 3",
   "language": "python",
   "name": "python3"
  },
  "language_info": {
   "codemirror_mode": {
    "name": "ipython",
    "version": 3
   },
   "file_extension": ".py",
   "mimetype": "text/x-python",
   "name": "python",
   "nbconvert_exporter": "python",
   "pygments_lexer": "ipython3",
   "version": "3.6.3"
  }
 },
 "nbformat": 4,
 "nbformat_minor": 4
}
